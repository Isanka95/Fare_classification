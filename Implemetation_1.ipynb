{
  "nbformat": 4,
  "nbformat_minor": 0,
  "metadata": {
    "kernelspec": {
      "name": "python3",
      "display_name": "Python 3",
      "language": "python"
    },
    "language_info": {
      "name": "python",
      "version": "3.7.6",
      "mimetype": "text/x-python",
      "codemirror_mode": {
        "name": "ipython",
        "version": 3
      },
      "pygments_lexer": "ipython3",
      "nbconvert_exporter": "python",
      "file_extension": ".py"
    },
    "colab": {
      "name": "XGBClassifier.ipynb",
      "provenance": []
    }
  },
  "cells": [
    {
      "cell_type": "markdown",
      "metadata": {
        "id": "t4zS_ovn2YRd",
        "colab_type": "text"
      },
      "source": [
        "# 1.Setup"
      ]
    },
    {
      "cell_type": "code",
      "metadata": {
        "_uuid": "8f2839f25d086af736a60e9eeb907d3b93b6e0e5",
        "_cell_guid": "b1076dfc-b9ad-4769-8c92-a6c4dae69d19",
        "trusted": true,
        "id": "9Xk1TM0M2YRf",
        "colab_type": "code",
        "colab": {
          "base_uri": "https://localhost:8080/",
          "height": 35
        },
        "outputId": "2f137e2d-1464-4fc0-913d-b921f9cfc6c1"
      },
      "source": [
        "import numpy as np # linear algebra\n",
        "import pandas as pd # data processing, CSV file I/O (e.g. pd.read_csv)\n",
        "\n",
        "from sklearn import metrics\n",
        "from sklearn import naive_bayes\n",
        "from xgboost import XGBClassifier\n",
        "from sklearn.metrics import f1_score\n",
        "from sklearn.tree import DecisionTreeClassifier\n",
        "from sklearn.preprocessing import StandardScaler\n",
        "from sklearn.ensemble import RandomForestClassifier\n",
        "from sklearn.linear_model import LogisticRegression\n",
        "from sklearn.neighbors import KNeighborsClassifier\n",
        "from sklearn.neural_network import MLPClassifier\n",
        "from sklearn.model_selection import RandomizedSearchCV\n",
        "from sklearn.model_selection import cross_val_score, cross_val_predict, StratifiedKFold,  KFold, train_test_split\n",
        "\n",
        "\n",
        "from google.colab import drive  \n",
        "drive.mount('/content/gdrive')\n",
        "train_set= pd.read_csv('/content/gdrive/My Drive/Ride_Fare/train.csv', index_col=\"tripid\")\n",
        "test_set= pd.read_csv('/content/gdrive/My Drive/Ride_Fare/test.csv', index_col=\"tripid\")    "
      ],
      "execution_count": 5,
      "outputs": [
        {
          "output_type": "stream",
          "text": [
            "Drive already mounted at /content/gdrive; to attempt to forcibly remount, call drive.mount(\"/content/gdrive\", force_remount=True).\n"
          ],
          "name": "stdout"
        }
      ]
    },
    {
      "cell_type": "markdown",
      "metadata": {
        "id": "jxOljSfs2YRl",
        "colab_type": "text"
      },
      "source": [
        "# 2.Feature Engineering"
      ]
    },
    {
      "cell_type": "code",
      "metadata": {
        "trusted": true,
        "id": "wa7hnzWV2YRl",
        "colab_type": "code",
        "colab": {
          "base_uri": "https://localhost:8080/",
          "height": 580
        },
        "outputId": "91a64126-338b-45ac-8e2f-1e546b28d65b"
      },
      "source": [
        "#Label encoding\n",
        "train_set[\"label\"] = train_set[\"label\"].map({\"incorrect\": 0, \"correct\":1})\n",
        "\n",
        "#check imbalancing\n",
        "target_count = train_set.label.value_counts()\n",
        "print('Class 0:', target_count[0])\n",
        "print('Class 1:', target_count[1])\n",
        "print('Proportion:', round(target_count[0] / target_count[1], 2), ': 1')\n",
        "\n",
        "target_count.plot(kind='bar', title='Count (label)');\n",
        "\n",
        "#fill misding values of 'duration' column using 'pickup_time' and 'drop_time' values\n",
        "train_set[\"pickup\"] = pd.to_datetime(train_set[\"pickup_time\"])\n",
        "train_set[\"drop\"] = pd.to_datetime(train_set[\"drop_time\"])\n",
        "train_set['difference'] = (train_set[\"drop\"] - train_set[\"pickup\"])/np.timedelta64(1,'s')\n",
        "train_set['duration'] = train_set['duration'].fillna(train_set['difference'])\n",
        "\n",
        "# define new feature 'distance'\n",
        "\n",
        "def haversine_vectorize(lon1, lat1, lon2, lat2):\n",
        " \n",
        "    lon1, lat1, lon2, lat2 = map(np.radians, [lon1, lat1, lon2, lat2])\n",
        " \n",
        "    newlon = lon2 - lon1\n",
        "    newlat = lat2 - lat1\n",
        " \n",
        "    haver_formula = np.sin(newlat/2.0)**2 + np.cos(lat1) * np.cos(lat2) * np.sin(newlon/2.0)**2\n",
        " \n",
        "    dist = 2 * np.arcsin(np.sqrt(haver_formula ))\n",
        "    km = 6367 * dist #6367 for distance in KM for miles use 3958\n",
        "    return km\n",
        "\n",
        "train_set['distance'] = haversine_vectorize(train_set['pick_lon'],train_set['pick_lat'],train_set['drop_lon'],train_set['drop_lat'])\n",
        "\n",
        "# dropping features\n",
        "train_set = train_set.drop(['pick_lat','pick_lon','drop_lat','drop_lon','pickup_time','drop_time','pickup','drop','difference','meter_waiting_till_pickup'],axis='columns')\n",
        "\n",
        "# fill missing values of fetures with their mean value\n",
        "\n",
        "train_set['fare'] = train_set['fare'] .fillna(train_set.fare.mean())\n",
        "train_set['additional_fare'] = train_set['additional_fare'].fillna(train_set.additional_fare.mean())\n",
        "train_set['meter_waiting'] = train_set['meter_waiting'].fillna(train_set.meter_waiting.mean())\n",
        "train_set['meter_waiting_fare'] = train_set['meter_waiting_fare'].fillna(train_set.meter_waiting_fare.mean())\n",
        "\n",
        "train_set.info()\n",
        "\n",
        "X = train_set.drop(['label'],axis='columns')\n",
        "Y = train_set['label']"
      ],
      "execution_count": 6,
      "outputs": [
        {
          "output_type": "stream",
          "text": [
            "Class 0: 1681\n",
            "Class 1: 15495\n",
            "Proportion: 0.11 : 1\n",
            "<class 'pandas.core.frame.DataFrame'>\n",
            "Int64Index: 17176 entries, 189123628 to 213817296\n",
            "Data columns (total 7 columns):\n",
            " #   Column              Non-Null Count  Dtype  \n",
            "---  ------              --------------  -----  \n",
            " 0   additional_fare     17176 non-null  float64\n",
            " 1   duration            17176 non-null  float64\n",
            " 2   meter_waiting       17176 non-null  float64\n",
            " 3   meter_waiting_fare  17176 non-null  float64\n",
            " 4   fare                17176 non-null  float64\n",
            " 5   label               17176 non-null  int64  \n",
            " 6   distance            17176 non-null  float64\n",
            "dtypes: float64(6), int64(1)\n",
            "memory usage: 1.0 MB\n"
          ],
          "name": "stdout"
        },
        {
          "output_type": "display_data",
          "data": {
            "image/png": "[encoded data removed]",
            "text/plain": [
              "<Figure size 432x288 with 1 Axes>"
            ]
          },
          "metadata": {
            "tags": [],
            "needs_background": "light"
          }
        }
      ]
    },
    {
      "cell_type": "markdown",
      "metadata": {
        "id": "EAwLuk7U2YRq",
        "colab_type": "text"
      },
      "source": [
        "# 3.Model Selecting\n",
        "\n"
      ]
    },
    {
      "cell_type": "code",
      "metadata": {
        "trusted": true,
        "id": "HPHENNIa2YRr",
        "colab_type": "code",
        "colab": {
          "base_uri": "https://localhost:8080/",
          "height": 282
        },
        "outputId": "26e3b594-c387-4289-96a0-19225accfcae"
      },
      "source": [
        "scaler = StandardScaler()\n",
        "X = scaler.fit_transform(X)\n",
        "\n",
        "kfold = StratifiedKFold(n_splits=10)\n",
        "random_state = 2\n",
        "\n",
        "classifiers = []\n",
        "classifiers.append(DecisionTreeClassifier(random_state=random_state))\n",
        "classifiers.append(RandomForestClassifier(random_state = 2))\n",
        "classifiers.append(XGBClassifier(random_state=2, max_depth=4,n_estimators=300,gamma=0.3,learning_rate=0.2,max_delta_step=1))\n",
        "classifiers.append(KNeighborsClassifier())\n",
        "classifiers.append(LogisticRegression(random_state = random_state))\n",
        "classifiers.append(naive_bayes.BernoulliNB())\n",
        "classifiers.append(naive_bayes.GaussianNB())\n",
        "classifiers.append(MLPClassifier(hidden_layer_sizes=(50,100,50), max_iter=1000))\n",
        "\n",
        "c_results = []\n",
        "c_roc=[]\n",
        "for classifier in classifiers : \n",
        "    c_results.append(cross_val_score(classifier, X, y = Y, scoring = 'f1', cv = kfold, n_jobs=4)) \n",
        "   \n",
        "    \n",
        "c_means = []\n",
        "c_std = []\n",
        "for c_result in c_results:\n",
        "    c_means.append(c_result.mean())\n",
        "    c_std.append(c_result.std())\n",
        "    \n",
        "c_res = pd.DataFrame({\"CrossValMeans\":c_means,\"CrossValerrors\": c_std,\"Algorithm\":[\"DecisionTree\",\"RandomForest\",\"xgcBoot\",\"KNN\",\"Log_Reg\",\"naive_ber\",\"naive_gass\",\"MLPC\"]}) \n",
        "c_res"
      ],
      "execution_count": 7,
      "outputs": [
        {
          "output_type": "execute_result",
          "data": {
            "text/html": [
              "<div>\n",
              "<style scoped>\n",
              "    .dataframe tbody tr th:only-of-type {\n",
              "        vertical-align: middle;\n",
              "    }\n",
              "\n",
              "    .dataframe tbody tr th {\n",
              "        vertical-align: top;\n",
              "    }\n",
              "\n",
              "    .dataframe thead th {\n",
              "        text-align: right;\n",
              "    }\n",
              "</style>\n",
              "<table border=\"1\" class=\"dataframe\">\n",
              "  <thead>\n",
              "    <tr style=\"text-align: right;\">\n",
              "      <th></th>\n",
              "      <th>CrossValMeans</th>\n",
              "      <th>CrossValerrors</th>\n",
              "      <th>Algorithm</th>\n",
              "    </tr>\n",
              "  </thead>\n",
              "  <tbody>\n",
              "    <tr>\n",
              "      <th>0</th>\n",
              "      <td>0.957780</td>\n",
              "      <td>0.004980</td>\n",
              "      <td>DecisionTree</td>\n",
              "    </tr>\n",
              "    <tr>\n",
              "      <th>1</th>\n",
              "      <td>0.971725</td>\n",
              "      <td>0.005176</td>\n",
              "      <td>RandomForest</td>\n",
              "    </tr>\n",
              "    <tr>\n",
              "      <th>2</th>\n",
              "      <td>0.972305</td>\n",
              "      <td>0.004986</td>\n",
              "      <td>xgcBoot</td>\n",
              "    </tr>\n",
              "    <tr>\n",
              "      <th>3</th>\n",
              "      <td>0.972800</td>\n",
              "      <td>0.003629</td>\n",
              "      <td>KNN</td>\n",
              "    </tr>\n",
              "    <tr>\n",
              "      <th>4</th>\n",
              "      <td>0.950593</td>\n",
              "      <td>0.001372</td>\n",
              "      <td>Log_Reg</td>\n",
              "    </tr>\n",
              "    <tr>\n",
              "      <th>5</th>\n",
              "      <td>0.935958</td>\n",
              "      <td>0.011684</td>\n",
              "      <td>naive_ber</td>\n",
              "    </tr>\n",
              "    <tr>\n",
              "      <th>6</th>\n",
              "      <td>0.947423</td>\n",
              "      <td>0.003618</td>\n",
              "      <td>naive_gass</td>\n",
              "    </tr>\n",
              "    <tr>\n",
              "      <th>7</th>\n",
              "      <td>0.974226</td>\n",
              "      <td>0.005767</td>\n",
              "      <td>MLPC</td>\n",
              "    </tr>\n",
              "  </tbody>\n",
              "</table>\n",
              "</div>"
            ],
            "text/plain": [
              "   CrossValMeans  CrossValerrors     Algorithm\n",
              "0       0.957780        0.004980  DecisionTree\n",
              "1       0.971725        0.005176  RandomForest\n",
              "2       0.972305        0.004986       xgcBoot\n",
              "3       0.972800        0.003629           KNN\n",
              "4       0.950593        0.001372       Log_Reg\n",
              "5       0.935958        0.011684     naive_ber\n",
              "6       0.947423        0.003618    naive_gass\n",
              "7       0.974226        0.005767          MLPC"
            ]
          },
          "metadata": {
            "tags": []
          },
          "execution_count": 7
        }
      ]
    },
    {
      "cell_type": "markdown",
      "metadata": {
        "id": "fz-v8RG72YRv",
        "colab_type": "text"
      },
      "source": [
        "# 4. Parameter Tuning"
      ]
    },
    {
      "cell_type": "code",
      "metadata": {
        "trusted": true,
        "id": "Fmi5BAzU2YRv",
        "colab_type": "code",
        "colab": {
          "base_uri": "https://localhost:8080/",
          "height": 301
        },
        "outputId": "f77c9b6f-bda9-4015-b2ce-f50097544118"
      },
      "source": [
        "# Split dataset into training set and test set\n",
        "X_train, X_test, y_train, y_test = train_test_split(X, Y, test_size=0.3, stratify=Y,random_state=123) # 70% training and 30% test\n",
        "\n",
        "def random_grid(estimator, params, cv, n_iter, scoring, X_train, y_train, X_test, y_test):\n",
        "    #create the instance of GridSearchCV\n",
        "    rs = RandomizedSearchCV(estimator, params, cv=cv, n_iter=n_iter, scoring=scoring,n_jobs=-1) \n",
        "    #fit the RandomizedSearch to our data\n",
        "    rs.fit(X_train,y_train)\n",
        "    # examine the best model\n",
        "    print('Training Best Score: ', rs.best_score_, '\\n')\n",
        "    print('Training Best Params:  \\n', rs.best_params_, '\\n\\n')\n",
        "    print('Training Best Estimator:  \\n', rs.best_estimator_, '\\n\\n')\n",
        "    \n",
        "    return rs.best_params_\n",
        "\n",
        "xg = XGBClassifier(seed=1)\n",
        "xg_random = {'eta': [0.01,0.05,0.1,0.2,0.3],\n",
        "             'min_depth': np.arange(3,10,1),\n",
        "             'min_child_weight': np.arange(1,6,1),\n",
        "             'scale_pos_weight': [0.5,0.9,1,2,3],\n",
        "             'gamma' : [0.01, 0.1,0.2, 0.3,0.4,0.5],\n",
        "             'max_depth': np.arange(3,10,1),\n",
        "             'n_estimators': [100, 200,300,500,600]\n",
        "            }\n",
        "xg_rg = random_grid(xg,xg_random,5,60,'f1',X_train,y_train,X_test,y_test)"
      ],
      "execution_count": 8,
      "outputs": [
        {
          "output_type": "stream",
          "text": [
            "Training Best Score:  0.9736727139393784 \n",
            "\n",
            "Training Best Params:  \n",
            " {'scale_pos_weight': 1, 'n_estimators': 200, 'min_depth': 5, 'min_child_weight': 1, 'max_depth': 9, 'gamma': 0.5, 'eta': 0.05} \n",
            "\n",
            "\n",
            "Training Best Estimator:  \n",
            " XGBClassifier(base_score=0.5, booster='gbtree', colsample_bylevel=1,\n",
            "              colsample_bynode=1, colsample_bytree=1, eta=0.05, gamma=0.5,\n",
            "              learning_rate=0.1, max_delta_step=0, max_depth=9,\n",
            "              min_child_weight=1, min_depth=5, missing=None, n_estimators=200,\n",
            "              n_jobs=1, nthread=None, objective='binary:logistic',\n",
            "              random_state=0, reg_alpha=0, reg_lambda=1, scale_pos_weight=1,\n",
            "              seed=1, silent=None, subsample=1, verbosity=1) \n",
            "\n",
            "\n"
          ],
          "name": "stdout"
        }
      ]
    },
    {
      "cell_type": "markdown",
      "metadata": {
        "id": "ftF33D2o2YRz",
        "colab_type": "text"
      },
      "source": [
        "# 5. Confusion Matrix and plot feature imrotance"
      ]
    },
    {
      "cell_type": "code",
      "metadata": {
        "trusted": true,
        "id": "fQR7CHhh2YR0",
        "colab_type": "code",
        "colab": {
          "base_uri": "https://localhost:8080/",
          "height": 629
        },
        "outputId": "c53420bc-6482-4e9f-db38-e440088fa7c0"
      },
      "source": [
        "\n",
        "#Train the model using the training sets y_pred=clf.predict(X_test)\n",
        "model=XGBClassifier(random_state=2, max_depth=4,n_estimators=300,gamma=0.3,learning_rate=0.2,max_delta_step=1)\n",
        "model.fit(X_train,y_train)\n",
        "y_pred=model.predict(X_test)\n",
        "\n",
        "# Confusion Matrix\n",
        "import matplotlib.pyplot as plt\n",
        "from sklearn.metrics import accuracy_score, confusion_matrix, recall_score, precision_score, f1_score\n",
        "import seaborn as sns\n",
        "\n",
        "# Creates a confusion matrix\n",
        "cm2 = confusion_matrix(y_test, y_pred) \n",
        "\n",
        "# Transform to df for easier plotting\n",
        "cm_df2 = pd.DataFrame(cm2)\n",
        "\n",
        "plt.figure(figsize=(5.5,4))\n",
        "sns.heatmap(cm_df2, annot=True)\n",
        "recall = recall_score(y_test, y_pred, average='macro')\n",
        "precision = precision_score(y_test, y_pred, average='macro')\n",
        "f1 = f1_score(y_test, y_pred, average='macro')\n",
        "print('f1: ', f1)\n",
        "accuracy = accuracy_score(y_test, y_pred)\n",
        "plt.title('XGCBoost \\nAccuracy:{0:.5f}'.format(accuracy))\n",
        "plt.ylabel('True label')\n",
        "plt.xlabel('Predicted label')\n",
        "plt.show()\n",
        "\n",
        "# plot feature importance manually\n",
        "from numpy import loadtxt\n",
        "from matplotlib import pyplot\n",
        "from xgboost import plot_importance\n",
        "# feature importance\n",
        "print(model.feature_importances_)\n",
        "# plot\n",
        "pyplot.bar(range(len(model.feature_importances_)), model.feature_importances_)\n",
        "pyplot.show()"
      ],
      "execution_count": 10,
      "outputs": [
        {
          "output_type": "stream",
          "text": [
            "f1:  0.8470109214293288\n"
          ],
          "name": "stdout"
        },
        {
          "output_type": "stream",
          "text": [
            "/usr/local/lib/python3.6/dist-packages/statsmodels/tools/_testing.py:19: FutureWarning: pandas.util.testing is deprecated. Use the functions in the public API at pandas.testing instead.\n",
            "  import pandas.util.testing as tm\n"
          ],
          "name": "stderr"
        },
        {
          "output_type": "display_data",
          "data": {
            "image/png": "[encoded data removed]",
            "text/plain": [
              "<Figure size 396x288 with 2 Axes>"
            ]
          },
          "metadata": {
            "tags": [],
            "needs_background": "light"
          }
        },
        {
          "output_type": "stream",
          "text": [
            "[0.24037057 0.2657337  0.06734852 0.11159668 0.19969903 0.11525147]\n"
          ],
          "name": "stdout"
        },
        {
          "output_type": "display_data",
          "data": {
            "image/png": "[encoded data removed]",
            "text/plain": [
              "<Figure size 432x288 with 1 Axes>"
            ]
          },
          "metadata": {
            "tags": [],
            "needs_background": "light"
          }
        }
      ]
    },
    {
      "cell_type": "markdown",
      "metadata": {
        "id": "F2MeEVZS2YR3",
        "colab_type": "text"
      },
      "source": [
        "# 6.Train model"
      ]
    },
    {
      "cell_type": "code",
      "metadata": {
        "trusted": true,
        "id": "CKpOAbBj2YR3",
        "colab_type": "code",
        "colab": {
          "base_uri": "https://localhost:8080/",
          "height": 141
        },
        "outputId": "4363f66e-8731-437a-9165-053cf1481f67"
      },
      "source": [
        "model = XGBClassifier(random_state=2, max_depth=4,n_estimators=300,gamma=0.3,learning_rate=0.2,max_delta_step=1)\n",
        "model.fit(X,Y)"
      ],
      "execution_count": 11,
      "outputs": [
        {
          "output_type": "execute_result",
          "data": {
            "text/plain": [
              "XGBClassifier(base_score=0.5, booster='gbtree', colsample_bylevel=1,\n",
              "              colsample_bynode=1, colsample_bytree=1, gamma=0.3,\n",
              "              learning_rate=0.2, max_delta_step=1, max_depth=4,\n",
              "              min_child_weight=1, missing=None, n_estimators=300, n_jobs=1,\n",
              "              nthread=None, objective='binary:logistic', random_state=2,\n",
              "              reg_alpha=0, reg_lambda=1, scale_pos_weight=1, seed=None,\n",
              "              silent=None, subsample=1, verbosity=1)"
            ]
          },
          "metadata": {
            "tags": []
          },
          "execution_count": 11
        }
      ]
    },
    {
      "cell_type": "markdown",
      "metadata": {
        "id": "upitEenu2YR7",
        "colab_type": "text"
      },
      "source": [
        "# 7.Test data PreProcessing"
      ]
    },
    {
      "cell_type": "code",
      "metadata": {
        "trusted": true,
        "id": "ckzeNlZy2YR8",
        "colab_type": "code",
        "colab": {
          "base_uri": "https://localhost:8080/",
          "height": 248
        },
        "outputId": "b87340f3-e57e-4b17-f5f5-bf0961be9ac3"
      },
      "source": [
        "#check missing values(no missing values)\n",
        "test_set.isnull().sum()\n",
        "\n",
        "#define new feature 'distance'\n",
        "test_set['distance'] = haversine_vectorize(test_set['pick_lon'],test_set['pick_lat'],test_set['drop_lon'],test_set['drop_lat'])\n",
        "\n",
        "# dropping features\n",
        "test_set = test_set.drop(['pick_lat','pick_lon','drop_lat','drop_lon','pickup_time','drop_time','meter_waiting_till_pickup'],axis='columns')\n",
        "\n",
        "test_set.info()"
      ],
      "execution_count": 12,
      "outputs": [
        {
          "output_type": "stream",
          "text": [
            "<class 'pandas.core.frame.DataFrame'>\n",
            "Int64Index: 8576 entries, 213284604 to 222860703\n",
            "Data columns (total 6 columns):\n",
            " #   Column              Non-Null Count  Dtype  \n",
            "---  ------              --------------  -----  \n",
            " 0   additional_fare     8576 non-null   float64\n",
            " 1   duration            8576 non-null   int64  \n",
            " 2   meter_waiting       8576 non-null   int64  \n",
            " 3   meter_waiting_fare  8576 non-null   float64\n",
            " 4   fare                8576 non-null   float64\n",
            " 5   distance            8576 non-null   float64\n",
            "dtypes: float64(4), int64(2)\n",
            "memory usage: 469.0 KB\n"
          ],
          "name": "stdout"
        }
      ]
    },
    {
      "cell_type": "markdown",
      "metadata": {
        "id": "XF6lIDjp2YSE",
        "colab_type": "text"
      },
      "source": [
        "# 8. Make Predictions"
      ]
    },
    {
      "cell_type": "code",
      "metadata": {
        "trusted": true,
        "id": "vz_R0rsT2YSF",
        "colab_type": "code",
        "colab": {}
      },
      "source": [
        "test = scaler.transform(test_set)\n",
        "result = model.predict(test)\n",
        "test_set['prediction'] = result\n",
        "test_set.head()\n",
        "final_df = test_set.drop(['additional_fare', 'duration', 'meter_waiting', 'meter_waiting_fare', 'fare', 'distance'],axis='columns')\n",
        "\n",
        "final_df.head()\n",
        "datapath = '/content/gdrive/My Drive/Ride_Fare/'\n",
        "final_df.to_csv(datapath +'submission.csv', index=True)"
      ],
      "execution_count": 13,
      "outputs": []
    }
  ]
}